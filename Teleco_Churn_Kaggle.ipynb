{
 "cells": [
  {
   "cell_type": "markdown",
   "id": "8c94bcde-a64d-4b8b-b005-4bafa070e829",
   "metadata": {},
   "source": [
    "# Churn Prediction\n",
    "Here we will use churn prediction from Kaggle datasets to demonstrate different classifiers, visualization, and how to compare models. The dataset can be found [here](https://www.kaggle.com/radmirzosimov/telecom-users-dataset).\n",
    "\n",
    "Will be using [H2O.ai](https://www.h2o.ai) classifiers, sklearn, XGBoost, LGBMClassifier, SVC, KNNClassifer, and tensorflow sequential model. We will look at the performance and results from identical estimators from different pacakges.\n",
    "\n",
    "This notebook is combination of methods and plotting from \n",
    "* [Gokul](https://www.kaggle.com/gokulrajkmv/predict-which-customer-will-leave-eda-modeling)\n",
    "* [Chris](https://www.kaggle.com/docxian/telecom-customer-churn)\n",
    "* [Dimtry](https://www.kaggle.com/dmitryuarov/customer-churn-eda-prediction)"
   ]
  },
  {
   "cell_type": "code",
   "execution_count": 1,
   "id": "4b402549-3027-47f0-a9a1-2efdc47af24f",
   "metadata": {},
   "outputs": [
    {
     "data": {
      "text/html": [
       "        <script type=\"text/javascript\">\n",
       "        window.PlotlyConfig = {MathJaxConfig: 'local'};\n",
       "        if (window.MathJax) {MathJax.Hub.Config({SVG: {font: \"STIX-Web\"}});}\n",
       "        if (typeof require !== 'undefined') {\n",
       "        require.undef(\"plotly\");\n",
       "        requirejs.config({\n",
       "            paths: {\n",
       "                'plotly': ['https://cdn.plot.ly/plotly-latest.min']\n",
       "            }\n",
       "        });\n",
       "        require(['plotly'], function(Plotly) {\n",
       "            window._Plotly = Plotly;\n",
       "        });\n",
       "        }\n",
       "        </script>\n",
       "        "
      ]
     },
     "metadata": {},
     "output_type": "display_data"
    }
   ],
   "source": [
    "import numpy as np\n",
    "import pandas as pd\n",
    "\n",
    "import matplotlib.pyplot as plt\n",
    "import plotly.express as px\n",
    "import seaborn as sns\n",
    "\n",
    "from statsmodels.graphics.mosaicplot import mosaic\n",
    "\n",
    "import h2o\n",
    "from h2o.estimators import H2ORandomForestEstimator, H2OXGBoostEstimator, H2OGradientBoostingEstimator, H2ONaiveBayesEstimator\n",
    "\n",
    "from IPython.core.display import display, HTML, Javascript\n",
    "\n",
    "from sklearn.preprocessing import StandardScaler, LabelEncoder\n",
    "from sklearn import metrics\n",
    "from sklearn.metrics import classification_report, confusion_matrix, roc_curve, auc\n",
    "from sklearn.metrics import roc_auc_score, precision_score, recall_score, f1_score\n",
    "from sklearn.model_selection import train_test_split, cross_val_score\n",
    "from sklearn.tree import DecisionTreeClassifier\n",
    "from sklearn.ensemble import RandomForestClassifier\n",
    "from sklearn.svm import SVC\n",
    "from sklearn.neighbors import KNeighborsClassifier\n",
    "from sklearn.linear_model import LogisticRegression\n",
    "\n",
    "from imblearn.over_sampling import SMOTE\n",
    "\n",
    "import tensorflow as tf\n",
    "from tensorflow.keras.models import Sequential\n",
    "from tensorflow.keras.layers import Dense, Activation, Dropout\n",
    "from tensorflow.keras.callbacks import EarlyStopping\n",
    "\n",
    "import eli5\n",
    "from eli5.sklearn import PermutationImportance\n",
    "\n",
    "from plotly.offline import download_plotlyjs, init_notebook_mode\n",
    "init_notebook_mode(connected=True)\n",
    "\n",
    "import xgboost as xgb\n",
    "\n",
    "from lightgbm import LGBMClassifier\n",
    "\n",
    "pd.set_option('display.max_columns', None)\n",
    "pd.set_option('display.max_rows', 50)"
   ]
  },
  {
   "cell_type": "markdown",
   "id": "8292c3a5-902a-4e18-b87b-06eb5122a89a",
   "metadata": {},
   "source": [
    "# Load\n",
    "Load the data and drop `customerID` since it is not needed for this problem."
   ]
  },
  {
   "cell_type": "code",
   "execution_count": 2,
   "id": "b885248a-b053-4efb-a517-155e303bfe7d",
   "metadata": {},
   "outputs": [],
   "source": [
    "df = pd.read_csv('telecom_users.csv', index_col=0)\n",
    "df = df.reset_index(drop=True)\n",
    "df = df.drop(\"customerID\", axis=1)"
   ]
  },
  {
   "cell_type": "code",
   "execution_count": 3,
   "id": "ca7010a5-2a65-40e9-8c5e-4b82f9853ccb",
   "metadata": {},
   "outputs": [
    {
     "data": {
      "text/html": [
       "<div>\n",
       "<style scoped>\n",
       "    .dataframe tbody tr th:only-of-type {\n",
       "        vertical-align: middle;\n",
       "    }\n",
       "\n",
       "    .dataframe tbody tr th {\n",
       "        vertical-align: top;\n",
       "    }\n",
       "\n",
       "    .dataframe thead th {\n",
       "        text-align: right;\n",
       "    }\n",
       "</style>\n",
       "<table border=\"1\" class=\"dataframe\">\n",
       "  <thead>\n",
       "    <tr style=\"text-align: right;\">\n",
       "      <th></th>\n",
       "      <th>gender</th>\n",
       "      <th>SeniorCitizen</th>\n",
       "      <th>Partner</th>\n",
       "      <th>Dependents</th>\n",
       "      <th>tenure</th>\n",
       "      <th>PhoneService</th>\n",
       "      <th>MultipleLines</th>\n",
       "      <th>InternetService</th>\n",
       "      <th>OnlineSecurity</th>\n",
       "      <th>OnlineBackup</th>\n",
       "      <th>DeviceProtection</th>\n",
       "      <th>TechSupport</th>\n",
       "      <th>StreamingTV</th>\n",
       "      <th>StreamingMovies</th>\n",
       "      <th>Contract</th>\n",
       "      <th>PaperlessBilling</th>\n",
       "      <th>PaymentMethod</th>\n",
       "      <th>MonthlyCharges</th>\n",
       "      <th>TotalCharges</th>\n",
       "      <th>Churn</th>\n",
       "    </tr>\n",
       "  </thead>\n",
       "  <tbody>\n",
       "    <tr>\n",
       "      <th>0</th>\n",
       "      <td>Male</td>\n",
       "      <td>0</td>\n",
       "      <td>Yes</td>\n",
       "      <td>Yes</td>\n",
       "      <td>72</td>\n",
       "      <td>Yes</td>\n",
       "      <td>Yes</td>\n",
       "      <td>No</td>\n",
       "      <td>No internet service</td>\n",
       "      <td>No internet service</td>\n",
       "      <td>No internet service</td>\n",
       "      <td>No internet service</td>\n",
       "      <td>No internet service</td>\n",
       "      <td>No internet service</td>\n",
       "      <td>Two year</td>\n",
       "      <td>No</td>\n",
       "      <td>Credit card (automatic)</td>\n",
       "      <td>24.10</td>\n",
       "      <td>1734.65</td>\n",
       "      <td>No</td>\n",
       "    </tr>\n",
       "    <tr>\n",
       "      <th>1</th>\n",
       "      <td>Female</td>\n",
       "      <td>0</td>\n",
       "      <td>No</td>\n",
       "      <td>No</td>\n",
       "      <td>44</td>\n",
       "      <td>Yes</td>\n",
       "      <td>No</td>\n",
       "      <td>Fiber optic</td>\n",
       "      <td>No</td>\n",
       "      <td>Yes</td>\n",
       "      <td>Yes</td>\n",
       "      <td>No</td>\n",
       "      <td>Yes</td>\n",
       "      <td>No</td>\n",
       "      <td>Month-to-month</td>\n",
       "      <td>Yes</td>\n",
       "      <td>Credit card (automatic)</td>\n",
       "      <td>88.15</td>\n",
       "      <td>3973.2</td>\n",
       "      <td>No</td>\n",
       "    </tr>\n",
       "    <tr>\n",
       "      <th>2</th>\n",
       "      <td>Female</td>\n",
       "      <td>1</td>\n",
       "      <td>Yes</td>\n",
       "      <td>No</td>\n",
       "      <td>38</td>\n",
       "      <td>Yes</td>\n",
       "      <td>Yes</td>\n",
       "      <td>Fiber optic</td>\n",
       "      <td>No</td>\n",
       "      <td>No</td>\n",
       "      <td>No</td>\n",
       "      <td>No</td>\n",
       "      <td>No</td>\n",
       "      <td>No</td>\n",
       "      <td>Month-to-month</td>\n",
       "      <td>Yes</td>\n",
       "      <td>Bank transfer (automatic)</td>\n",
       "      <td>74.95</td>\n",
       "      <td>2869.85</td>\n",
       "      <td>Yes</td>\n",
       "    </tr>\n",
       "    <tr>\n",
       "      <th>3</th>\n",
       "      <td>Male</td>\n",
       "      <td>0</td>\n",
       "      <td>No</td>\n",
       "      <td>No</td>\n",
       "      <td>4</td>\n",
       "      <td>Yes</td>\n",
       "      <td>No</td>\n",
       "      <td>DSL</td>\n",
       "      <td>No</td>\n",
       "      <td>No</td>\n",
       "      <td>No</td>\n",
       "      <td>No</td>\n",
       "      <td>No</td>\n",
       "      <td>Yes</td>\n",
       "      <td>Month-to-month</td>\n",
       "      <td>Yes</td>\n",
       "      <td>Electronic check</td>\n",
       "      <td>55.90</td>\n",
       "      <td>238.5</td>\n",
       "      <td>No</td>\n",
       "    </tr>\n",
       "    <tr>\n",
       "      <th>4</th>\n",
       "      <td>Male</td>\n",
       "      <td>0</td>\n",
       "      <td>No</td>\n",
       "      <td>No</td>\n",
       "      <td>2</td>\n",
       "      <td>Yes</td>\n",
       "      <td>No</td>\n",
       "      <td>DSL</td>\n",
       "      <td>Yes</td>\n",
       "      <td>No</td>\n",
       "      <td>Yes</td>\n",
       "      <td>No</td>\n",
       "      <td>No</td>\n",
       "      <td>No</td>\n",
       "      <td>Month-to-month</td>\n",
       "      <td>No</td>\n",
       "      <td>Electronic check</td>\n",
       "      <td>53.45</td>\n",
       "      <td>119.5</td>\n",
       "      <td>No</td>\n",
       "    </tr>\n",
       "  </tbody>\n",
       "</table>\n",
       "</div>"
      ],
      "text/plain": [
       "   gender  SeniorCitizen Partner Dependents  tenure PhoneService  \\\n",
       "0    Male              0     Yes        Yes      72          Yes   \n",
       "1  Female              0      No         No      44          Yes   \n",
       "2  Female              1     Yes         No      38          Yes   \n",
       "3    Male              0      No         No       4          Yes   \n",
       "4    Male              0      No         No       2          Yes   \n",
       "\n",
       "  MultipleLines InternetService       OnlineSecurity         OnlineBackup  \\\n",
       "0           Yes              No  No internet service  No internet service   \n",
       "1            No     Fiber optic                   No                  Yes   \n",
       "2           Yes     Fiber optic                   No                   No   \n",
       "3            No             DSL                   No                   No   \n",
       "4            No             DSL                  Yes                   No   \n",
       "\n",
       "      DeviceProtection          TechSupport          StreamingTV  \\\n",
       "0  No internet service  No internet service  No internet service   \n",
       "1                  Yes                   No                  Yes   \n",
       "2                   No                   No                   No   \n",
       "3                   No                   No                   No   \n",
       "4                  Yes                   No                   No   \n",
       "\n",
       "       StreamingMovies        Contract PaperlessBilling  \\\n",
       "0  No internet service        Two year               No   \n",
       "1                   No  Month-to-month              Yes   \n",
       "2                   No  Month-to-month              Yes   \n",
       "3                  Yes  Month-to-month              Yes   \n",
       "4                   No  Month-to-month               No   \n",
       "\n",
       "               PaymentMethod  MonthlyCharges TotalCharges Churn  \n",
       "0    Credit card (automatic)           24.10      1734.65    No  \n",
       "1    Credit card (automatic)           88.15       3973.2    No  \n",
       "2  Bank transfer (automatic)           74.95      2869.85   Yes  \n",
       "3           Electronic check           55.90        238.5    No  \n",
       "4           Electronic check           53.45        119.5    No  "
      ]
     },
     "execution_count": 3,
     "metadata": {},
     "output_type": "execute_result"
    }
   ],
   "source": [
    "df.head()"
   ]
  },
  {
   "cell_type": "code",
   "execution_count": 4,
   "id": "d8b3eeba-5a11-4d35-b88f-1757d1d4e901",
   "metadata": {},
   "outputs": [
    {
     "name": "stdout",
     "output_type": "stream",
     "text": [
      "<class 'pandas.core.frame.DataFrame'>\n",
      "RangeIndex: 5986 entries, 0 to 5985\n",
      "Data columns (total 20 columns):\n",
      " #   Column            Non-Null Count  Dtype  \n",
      "---  ------            --------------  -----  \n",
      " 0   gender            5986 non-null   object \n",
      " 1   SeniorCitizen     5986 non-null   int64  \n",
      " 2   Partner           5986 non-null   object \n",
      " 3   Dependents        5986 non-null   object \n",
      " 4   tenure            5986 non-null   int64  \n",
      " 5   PhoneService      5986 non-null   object \n",
      " 6   MultipleLines     5986 non-null   object \n",
      " 7   InternetService   5986 non-null   object \n",
      " 8   OnlineSecurity    5986 non-null   object \n",
      " 9   OnlineBackup      5986 non-null   object \n",
      " 10  DeviceProtection  5986 non-null   object \n",
      " 11  TechSupport       5986 non-null   object \n",
      " 12  StreamingTV       5986 non-null   object \n",
      " 13  StreamingMovies   5986 non-null   object \n",
      " 14  Contract          5986 non-null   object \n",
      " 15  PaperlessBilling  5986 non-null   object \n",
      " 16  PaymentMethod     5986 non-null   object \n",
      " 17  MonthlyCharges    5986 non-null   float64\n",
      " 18  TotalCharges      5986 non-null   object \n",
      " 19  Churn             5986 non-null   object \n",
      "dtypes: float64(1), int64(2), object(17)\n",
      "memory usage: 935.4+ KB\n"
     ]
    }
   ],
   "source": [
    "df.info()"
   ]
  },
  {
   "cell_type": "code",
   "execution_count": 5,
   "id": "7736e96a-d3c5-4c1d-bee4-6f8585256cd2",
   "metadata": {},
   "outputs": [],
   "source": [
    "df.SeniorCitizen = df.SeniorCitizen.astype('object')"
   ]
  },
  {
   "cell_type": "code",
   "execution_count": 6,
   "id": "65079c33-683a-49f1-8380-ebd6a8d4e269",
   "metadata": {},
   "outputs": [
    {
     "data": {
      "text/html": [
       "<div>\n",
       "<style scoped>\n",
       "    .dataframe tbody tr th:only-of-type {\n",
       "        vertical-align: middle;\n",
       "    }\n",
       "\n",
       "    .dataframe tbody tr th {\n",
       "        vertical-align: top;\n",
       "    }\n",
       "\n",
       "    .dataframe thead th {\n",
       "        text-align: right;\n",
       "    }\n",
       "</style>\n",
       "<table border=\"1\" class=\"dataframe\">\n",
       "  <thead>\n",
       "    <tr style=\"text-align: right;\">\n",
       "      <th></th>\n",
       "      <th>Churn</th>\n",
       "      <th>count</th>\n",
       "    </tr>\n",
       "  </thead>\n",
       "  <tbody>\n",
       "    <tr>\n",
       "      <th>0</th>\n",
       "      <td>No</td>\n",
       "      <td>4399</td>\n",
       "    </tr>\n",
       "    <tr>\n",
       "      <th>1</th>\n",
       "      <td>Yes</td>\n",
       "      <td>1587</td>\n",
       "    </tr>\n",
       "  </tbody>\n",
       "</table>\n",
       "</div>"
      ],
      "text/plain": [
       "  Churn  count\n",
       "0    No   4399\n",
       "1   Yes   1587"
      ]
     },
     "execution_count": 6,
     "metadata": {},
     "output_type": "execute_result"
    }
   ],
   "source": [
    "churn = df.groupby('Churn').agg({'Churn': 'count'}).rename(columns = {'Churn': 'count'}).reset_index()\n",
    "churn"
   ]
  },
  {
   "cell_type": "markdown",
   "id": "ac8963e8-f629-470a-ae88-e36e12f4417e",
   "metadata": {},
   "source": [
    "In our data, we an imbalance of with `4399` customers who did not churn, or leave, and only `1587` who did leave."
   ]
  },
  {
   "cell_type": "code",
   "execution_count": 7,
   "id": "85509efd-5090-4da9-ad45-d18cab9deb63",
   "metadata": {},
   "outputs": [
    {
     "data": {
      "application/vnd.plotly.v1+json": {
       "config": {
        "plotlyServerURL": "https://plot.ly"
       },
       "data": [
        {
         "domain": {
          "x": [
           0,
           1
          ],
          "y": [
           0,
           1
          ]
         },
         "hole": 0.85,
         "hovertemplate": "Churn=%{label}<br>count=%{value}<extra></extra>",
         "labels": [
          "No",
          "Yes"
         ],
         "legendgroup": "",
         "marker": {
          "colors": [
           "#2A3132",
           "#336B87"
          ],
          "line": {
           "color": "white",
           "width": 2
          }
         },
         "name": "",
         "showlegend": true,
         "textinfo": "percent+label",
         "textposition": "inside",
         "type": "pie",
         "values": [
          4399,
          1587
         ]
        }
       ],
       "layout": {
        "autosize": true,
        "legend": {
         "tracegroupgap": 0
        },
        "margin": {
         "t": 60
        },
        "showlegend": false,
        "template": {
         "data": {
          "bar": [
           {
            "error_x": {
             "color": "#2a3f5f"
            },
            "error_y": {
             "color": "#2a3f5f"
            },
            "marker": {
             "line": {
              "color": "#E5ECF6",
              "width": 0.5
             }
            },
            "type": "bar"
           }
          ],
          "barpolar": [
           {
            "marker": {
             "line": {
              "color": "#E5ECF6",
              "width": 0.5
             }
            },
            "type": "barpolar"
           }
          ],
          "carpet": [
           {
            "aaxis": {
             "endlinecolor": "#2a3f5f",
             "gridcolor": "white",
             "linecolor": "white",
             "minorgridcolor": "white",
             "startlinecolor": "#2a3f5f"
            },
            "baxis": {
             "endlinecolor": "#2a3f5f",
             "gridcolor": "white",
             "linecolor": "white",
             "minorgridcolor": "white",
             "startlinecolor": "#2a3f5f"
            },
            "type": "carpet"
           }
          ],
          "choropleth": [
           {
            "colorbar": {
             "outlinewidth": 0,
             "ticks": ""
            },
            "type": "choropleth"
           }
          ],
          "contour": [
           {
            "colorbar": {
             "outlinewidth": 0,
             "ticks": ""
            },
            "colorscale": [
             [
              0,
              "#0d0887"
             ],
             [
              0.1111111111111111,
              "#46039f"
             ],
             [
              0.2222222222222222,
              "#7201a8"
             ],
             [
              0.3333333333333333,
              "#9c179e"
             ],
             [
              0.4444444444444444,
              "#bd3786"
             ],
             [
              0.5555555555555556,
              "#d8576b"
             ],
             [
              0.6666666666666666,
              "#ed7953"
             ],
             [
              0.7777777777777778,
              "#fb9f3a"
             ],
             [
              0.8888888888888888,
              "#fdca26"
             ],
             [
              1,
              "#f0f921"
             ]
            ],
            "type": "contour"
           }
          ],
          "contourcarpet": [
           {
            "colorbar": {
             "outlinewidth": 0,
             "ticks": ""
            },
            "type": "contourcarpet"
           }
          ],
          "heatmap": [
           {
            "colorbar": {
             "outlinewidth": 0,
             "ticks": ""
            },
            "colorscale": [
             [
              0,
              "#0d0887"
             ],
             [
              0.1111111111111111,
              "#46039f"
             ],
             [
              0.2222222222222222,
              "#7201a8"
             ],
             [
              0.3333333333333333,
              "#9c179e"
             ],
             [
              0.4444444444444444,
              "#bd3786"
             ],
             [
              0.5555555555555556,
              "#d8576b"
             ],
             [
              0.6666666666666666,
              "#ed7953"
             ],
             [
              0.7777777777777778,
              "#fb9f3a"
             ],
             [
              0.8888888888888888,
              "#fdca26"
             ],
             [
              1,
              "#f0f921"
             ]
            ],
            "type": "heatmap"
           }
          ],
          "heatmapgl": [
           {
            "colorbar": {
             "outlinewidth": 0,
             "ticks": ""
            },
            "colorscale": [
             [
              0,
              "#0d0887"
             ],
             [
              0.1111111111111111,
              "#46039f"
             ],
             [
              0.2222222222222222,
              "#7201a8"
             ],
             [
              0.3333333333333333,
              "#9c179e"
             ],
             [
              0.4444444444444444,
              "#bd3786"
             ],
             [
              0.5555555555555556,
              "#d8576b"
             ],
             [
              0.6666666666666666,
              "#ed7953"
             ],
             [
              0.7777777777777778,
              "#fb9f3a"
             ],
             [
              0.8888888888888888,
              "#fdca26"
             ],
             [
              1,
              "#f0f921"
             ]
            ],
            "type": "heatmapgl"
           }
          ],
          "histogram": [
           {
            "marker": {
             "colorbar": {
              "outlinewidth": 0,
              "ticks": ""
             }
            },
            "type": "histogram"
           }
          ],
          "histogram2d": [
           {
            "colorbar": {
             "outlinewidth": 0,
             "ticks": ""
            },
            "colorscale": [
             [
              0,
              "#0d0887"
             ],
             [
              0.1111111111111111,
              "#46039f"
             ],
             [
              0.2222222222222222,
              "#7201a8"
             ],
             [
              0.3333333333333333,
              "#9c179e"
             ],
             [
              0.4444444444444444,
              "#bd3786"
             ],
             [
              0.5555555555555556,
              "#d8576b"
             ],
             [
              0.6666666666666666,
              "#ed7953"
             ],
             [
              0.7777777777777778,
              "#fb9f3a"
             ],
             [
              0.8888888888888888,
              "#fdca26"
             ],
             [
              1,
              "#f0f921"
             ]
            ],
            "type": "histogram2d"
           }
          ],
          "histogram2dcontour": [
           {
            "colorbar": {
             "outlinewidth": 0,
             "ticks": ""
            },
            "colorscale": [
             [
              0,
              "#0d0887"
             ],
             [
              0.1111111111111111,
              "#46039f"
             ],
             [
              0.2222222222222222,
              "#7201a8"
             ],
             [
              0.3333333333333333,
              "#9c179e"
             ],
             [
              0.4444444444444444,
              "#bd3786"
             ],
             [
              0.5555555555555556,
              "#d8576b"
             ],
             [
              0.6666666666666666,
              "#ed7953"
             ],
             [
              0.7777777777777778,
              "#fb9f3a"
             ],
             [
              0.8888888888888888,
              "#fdca26"
             ],
             [
              1,
              "#f0f921"
             ]
            ],
            "type": "histogram2dcontour"
           }
          ],
          "mesh3d": [
           {
            "colorbar": {
             "outlinewidth": 0,
             "ticks": ""
            },
            "type": "mesh3d"
           }
          ],
          "parcoords": [
           {
            "line": {
             "colorbar": {
              "outlinewidth": 0,
              "ticks": ""
             }
            },
            "type": "parcoords"
           }
          ],
          "pie": [
           {
            "automargin": true,
            "type": "pie"
           }
          ],
          "scatter": [
           {
            "marker": {
             "colorbar": {
              "outlinewidth": 0,
              "ticks": ""
             }
            },
            "type": "scatter"
           }
          ],
          "scatter3d": [
           {
            "line": {
             "colorbar": {
              "outlinewidth": 0,
              "ticks": ""
             }
            },
            "marker": {
             "colorbar": {
              "outlinewidth": 0,
              "ticks": ""
             }
            },
            "type": "scatter3d"
           }
          ],
          "scattercarpet": [
           {
            "marker": {
             "colorbar": {
              "outlinewidth": 0,
              "ticks": ""
             }
            },
            "type": "scattercarpet"
           }
          ],
          "scattergeo": [
           {
            "marker": {
             "colorbar": {
              "outlinewidth": 0,
              "ticks": ""
             }
            },
            "type": "scattergeo"
           }
          ],
          "scattergl": [
           {
            "marker": {
             "colorbar": {
              "outlinewidth": 0,
              "ticks": ""
             }
            },
            "type": "scattergl"
           }
          ],
          "scattermapbox": [
           {
            "marker": {
             "colorbar": {
              "outlinewidth": 0,
              "ticks": ""
             }
            },
            "type": "scattermapbox"
           }
          ],
          "scatterpolar": [
           {
            "marker": {
             "colorbar": {
              "outlinewidth": 0,
              "ticks": ""
             }
            },
            "type": "scatterpolar"
           }
          ],
          "scatterpolargl": [
           {
            "marker": {
             "colorbar": {
              "outlinewidth": 0,
              "ticks": ""
             }
            },
            "type": "scatterpolargl"
           }
          ],
          "scatterternary": [
           {
            "marker": {
             "colorbar": {
              "outlinewidth": 0,
              "ticks": ""
             }
            },
            "type": "scatterternary"
           }
          ],
          "surface": [
           {
            "colorbar": {
             "outlinewidth": 0,
             "ticks": ""
            },
            "colorscale": [
             [
              0,
              "#0d0887"
             ],
             [
              0.1111111111111111,
              "#46039f"
             ],
             [
              0.2222222222222222,
              "#7201a8"
             ],
             [
              0.3333333333333333,
              "#9c179e"
             ],
             [
              0.4444444444444444,
              "#bd3786"
             ],
             [
              0.5555555555555556,
              "#d8576b"
             ],
             [
              0.6666666666666666,
              "#ed7953"
             ],
             [
              0.7777777777777778,
              "#fb9f3a"
             ],
             [
              0.8888888888888888,
              "#fdca26"
             ],
             [
              1,
              "#f0f921"
             ]
            ],
            "type": "surface"
           }
          ],
          "table": [
           {
            "cells": {
             "fill": {
              "color": "#EBF0F8"
             },
             "line": {
              "color": "white"
             }
            },
            "header": {
             "fill": {
              "color": "#C8D4E3"
             },
             "line": {
              "color": "white"
             }
            },
            "type": "table"
           }
          ]
         },
         "layout": {
          "annotationdefaults": {
           "arrowcolor": "#2a3f5f",
           "arrowhead": 0,
           "arrowwidth": 1
          },
          "autotypenumbers": "strict",
          "coloraxis": {
           "colorbar": {
            "outlinewidth": 0,
            "ticks": ""
           }
          },
          "colorscale": {
           "diverging": [
            [
             0,
             "#8e0152"
            ],
            [
             0.1,
             "#c51b7d"
            ],
            [
             0.2,
             "#de77ae"
            ],
            [
             0.3,
             "#f1b6da"
            ],
            [
             0.4,
             "#fde0ef"
            ],
            [
             0.5,
             "#f7f7f7"
            ],
            [
             0.6,
             "#e6f5d0"
            ],
            [
             0.7,
             "#b8e186"
            ],
            [
             0.8,
             "#7fbc41"
            ],
            [
             0.9,
             "#4d9221"
            ],
            [
             1,
             "#276419"
            ]
           ],
           "sequential": [
            [
             0,
             "#0d0887"
            ],
            [
             0.1111111111111111,
             "#46039f"
            ],
            [
             0.2222222222222222,
             "#7201a8"
            ],
            [
             0.3333333333333333,
             "#9c179e"
            ],
            [
             0.4444444444444444,
             "#bd3786"
            ],
            [
             0.5555555555555556,
             "#d8576b"
            ],
            [
             0.6666666666666666,
             "#ed7953"
            ],
            [
             0.7777777777777778,
             "#fb9f3a"
            ],
            [
             0.8888888888888888,
             "#fdca26"
            ],
            [
             1,
             "#f0f921"
            ]
           ],
           "sequentialminus": [
            [
             0,
             "#0d0887"
            ],
            [
             0.1111111111111111,
             "#46039f"
            ],
            [
             0.2222222222222222,
             "#7201a8"
            ],
            [
             0.3333333333333333,
             "#9c179e"
            ],
            [
             0.4444444444444444,
             "#bd3786"
            ],
            [
             0.5555555555555556,
             "#d8576b"
            ],
            [
             0.6666666666666666,
             "#ed7953"
            ],
            [
             0.7777777777777778,
             "#fb9f3a"
            ],
            [
             0.8888888888888888,
             "#fdca26"
            ],
            [
             1,
             "#f0f921"
            ]
           ]
          },
          "colorway": [
           "#636efa",
           "#EF553B",
           "#00cc96",
           "#ab63fa",
           "#FFA15A",
           "#19d3f3",
           "#FF6692",
           "#B6E880",
           "#FF97FF",
           "#FECB52"
          ],
          "font": {
           "color": "#2a3f5f"
          },
          "geo": {
           "bgcolor": "white",
           "lakecolor": "white",
           "landcolor": "#E5ECF6",
           "showlakes": true,
           "showland": true,
           "subunitcolor": "white"
          },
          "hoverlabel": {
           "align": "left"
          },
          "hovermode": "closest",
          "mapbox": {
           "style": "light"
          },
          "paper_bgcolor": "white",
          "plot_bgcolor": "#E5ECF6",
          "polar": {
           "angularaxis": {
            "gridcolor": "white",
            "linecolor": "white",
            "ticks": ""
           },
           "bgcolor": "#E5ECF6",
           "radialaxis": {
            "gridcolor": "white",
            "linecolor": "white",
            "ticks": ""
           }
          },
          "scene": {
           "xaxis": {
            "backgroundcolor": "#E5ECF6",
            "gridcolor": "white",
            "gridwidth": 2,
            "linecolor": "white",
            "showbackground": true,
            "ticks": "",
            "zerolinecolor": "white"
           },
           "yaxis": {
            "backgroundcolor": "#E5ECF6",
            "gridcolor": "white",
            "gridwidth": 2,
            "linecolor": "white",
            "showbackground": true,
            "ticks": "",
            "zerolinecolor": "white"
           },
           "zaxis": {
            "backgroundcolor": "#E5ECF6",
            "gridcolor": "white",
            "gridwidth": 2,
            "linecolor": "white",
            "showbackground": true,
            "ticks": "",
            "zerolinecolor": "white"
           }
          },
          "shapedefaults": {
           "line": {
            "color": "#2a3f5f"
           }
          },
          "ternary": {
           "aaxis": {
            "gridcolor": "white",
            "linecolor": "white",
            "ticks": ""
           },
           "baxis": {
            "gridcolor": "white",
            "linecolor": "white",
            "ticks": ""
           },
           "bgcolor": "#E5ECF6",
           "caxis": {
            "gridcolor": "white",
            "linecolor": "white",
            "ticks": ""
           }
          },
          "title": {
           "x": 0.05
          },
          "xaxis": {
           "automargin": true,
           "gridcolor": "white",
           "linecolor": "white",
           "ticks": "",
           "title": {
            "standoff": 15
           },
           "zerolinecolor": "white",
           "zerolinewidth": 2
          },
          "yaxis": {
           "automargin": true,
           "gridcolor": "white",
           "linecolor": "white",
           "ticks": "",
           "title": {
            "standoff": 15
           },
           "zerolinecolor": "white",
           "zerolinewidth": 2
          }
         }
        },
        "title": {
         "font": {
          "color": "black",
          "family": "Calibri",
          "size": 32
         },
         "text": "Customer Churn",
         "x": 0.5,
         "y": 0.53
        }
       }
      },
      "image/png": "[encoded data removed]",
      "text/html": [
       "<div>                            <div id=\"e4fb8252-660c-4dbd-bb48-4660201a4cb3\" class=\"plotly-graph-div\" style=\"height:525px; width:100%;\"></div>            <script type=\"text/javascript\">                require([\"plotly\"], function(Plotly) {                    window.PLOTLYENV=window.PLOTLYENV || {};                                    if (document.getElementById(\"e4fb8252-660c-4dbd-bb48-4660201a4cb3\")) {                    Plotly.newPlot(                        \"e4fb8252-660c-4dbd-bb48-4660201a4cb3\",                        [{\"domain\": {\"x\": [0.0, 1.0], \"y\": [0.0, 1.0]}, \"hole\": 0.85, \"hovertemplate\": \"Churn=%{label}<br>count=%{value}<extra></extra>\", \"labels\": [\"No\", \"Yes\"], \"legendgroup\": \"\", \"marker\": {\"colors\": [\"#2A3132\", \"#336B87\"], \"line\": {\"color\": \"white\", \"width\": 2}}, \"name\": \"\", \"showlegend\": true, \"textinfo\": \"percent+label\", \"textposition\": \"inside\", \"type\": \"pie\", \"values\": [4399, 1587]}],                        {\"legend\": {\"tracegroupgap\": 0}, \"margin\": {\"t\": 60}, \"showlegend\": false, \"template\": {\"data\": {\"bar\": [{\"error_x\": {\"color\": \"#2a3f5f\"}, \"error_y\": {\"color\": \"#2a3f5f\"}, \"marker\": {\"line\": {\"color\": \"#E5ECF6\", \"width\": 0.5}}, \"type\": \"bar\"}], \"barpolar\": [{\"marker\": {\"line\": {\"color\": \"#E5ECF6\", \"width\": 0.5}}, \"type\": \"barpolar\"}], \"carpet\": [{\"aaxis\": {\"endlinecolor\": \"#2a3f5f\", \"gridcolor\": \"white\", \"linecolor\": \"white\", \"minorgridcolor\": \"white\", \"startlinecolor\": \"#2a3f5f\"}, \"baxis\": {\"endlinecolor\": \"#2a3f5f\", \"gridcolor\": \"white\", \"linecolor\": \"white\", \"minorgridcolor\": \"white\", \"startlinecolor\": \"#2a3f5f\"}, \"type\": \"carpet\"}], \"choropleth\": [{\"colorbar\": {\"outlinewidth\": 0, \"ticks\": \"\"}, \"type\": \"choropleth\"}], \"contour\": [{\"colorbar\": {\"outlinewidth\": 0, \"ticks\": \"\"}, \"colorscale\": [[0.0, \"#0d0887\"], [0.1111111111111111, \"#46039f\"], [0.2222222222222222, \"#7201a8\"], [0.3333333333333333, \"#9c179e\"], [0.4444444444444444, \"#bd3786\"], [0.5555555555555556, \"#d8576b\"], [0.6666666666666666, \"#ed7953\"], [0.7777777777777778, \"#fb9f3a\"], [0.8888888888888888, \"#fdca26\"], [1.0, \"#f0f921\"]], \"type\": \"contour\"}], \"contourcarpet\": [{\"colorbar\": {\"outlinewidth\": 0, \"ticks\": \"\"}, \"type\": \"contourcarpet\"}], \"heatmap\": [{\"colorbar\": {\"outlinewidth\": 0, \"ticks\": \"\"}, \"colorscale\": [[0.0, \"#0d0887\"], [0.1111111111111111, \"#46039f\"], [0.2222222222222222, \"#7201a8\"], [0.3333333333333333, \"#9c179e\"], [0.4444444444444444, \"#bd3786\"], [0.5555555555555556, \"#d8576b\"], [0.6666666666666666, \"#ed7953\"], [0.7777777777777778, \"#fb9f3a\"], [0.8888888888888888, \"#fdca26\"], [1.0, \"#f0f921\"]], \"type\": \"heatmap\"}], \"heatmapgl\": [{\"colorbar\": {\"outlinewidth\": 0, \"ticks\": \"\"}, \"colorscale\": [[0.0, \"#0d0887\"], [0.1111111111111111, \"#46039f\"], [0.2222222222222222, \"#7201a8\"], [0.3333333333333333, \"#9c179e\"], [0.4444444444444444, \"#bd3786\"], [0.5555555555555556, \"#d8576b\"], [0.6666666666666666, \"#ed7953\"], [0.7777777777777778, \"#fb9f3a\"], [0.8888888888888888, \"#fdca26\"], [1.0, \"#f0f921\"]], \"type\": \"heatmapgl\"}], \"histogram\": [{\"marker\": {\"colorbar\": {\"outlinewidth\": 0, \"ticks\": \"\"}}, \"type\": \"histogram\"}], \"histogram2d\": [{\"colorbar\": {\"outlinewidth\": 0, \"ticks\": \"\"}, \"colorscale\": [[0.0, \"#0d0887\"], [0.1111111111111111, \"#46039f\"], [0.2222222222222222, \"#7201a8\"], [0.3333333333333333, \"#9c179e\"], [0.4444444444444444, \"#bd3786\"], [0.5555555555555556, \"#d8576b\"], [0.6666666666666666, \"#ed7953\"], [0.7777777777777778, \"#fb9f3a\"], [0.8888888888888888, \"#fdca26\"], [1.0, \"#f0f921\"]], \"type\": \"histogram2d\"}], \"histogram2dcontour\": [{\"colorbar\": {\"outlinewidth\": 0, \"ticks\": \"\"}, \"colorscale\": [[0.0, \"#0d0887\"], [0.1111111111111111, \"#46039f\"], [0.2222222222222222, \"#7201a8\"], [0.3333333333333333, \"#9c179e\"], [0.4444444444444444, \"#bd3786\"], [0.5555555555555556, \"#d8576b\"], [0.6666666666666666, \"#ed7953\"], [0.7777777777777778, \"#fb9f3a\"], [0.8888888888888888, \"#fdca26\"], [1.0, \"#f0f921\"]], \"type\": \"histogram2dcontour\"}], \"mesh3d\": [{\"colorbar\": {\"outlinewidth\": 0, \"ticks\": \"\"}, \"type\": \"mesh3d\"}], \"parcoords\": [{\"line\": {\"colorbar\": {\"outlinewidth\": 0, \"ticks\": \"\"}}, \"type\": \"parcoords\"}], \"pie\": [{\"automargin\": true, \"type\": \"pie\"}], \"scatter\": [{\"marker\": {\"colorbar\": {\"outlinewidth\": 0, \"ticks\": \"\"}}, \"type\": \"scatter\"}], \"scatter3d\": [{\"line\": {\"colorbar\": {\"outlinewidth\": 0, \"ticks\": \"\"}}, \"marker\": {\"colorbar\": {\"outlinewidth\": 0, \"ticks\": \"\"}}, \"type\": \"scatter3d\"}], \"scattercarpet\": [{\"marker\": {\"colorbar\": {\"outlinewidth\": 0, \"ticks\": \"\"}}, \"type\": \"scattercarpet\"}], \"scattergeo\": [{\"marker\": {\"colorbar\": {\"outlinewidth\": 0, \"ticks\": \"\"}}, \"type\": \"scattergeo\"}], \"scattergl\": [{\"marker\": {\"colorbar\": {\"outlinewidth\": 0, \"ticks\": \"\"}}, \"type\": \"scattergl\"}], \"scattermapbox\": [{\"marker\": {\"colorbar\": {\"outlinewidth\": 0, \"ticks\": \"\"}}, \"type\": \"scattermapbox\"}], \"scatterpolar\": [{\"marker\": {\"colorbar\": {\"outlinewidth\": 0, \"ticks\": \"\"}}, \"type\": \"scatterpolar\"}], \"scatterpolargl\": [{\"marker\": {\"colorbar\": {\"outlinewidth\": 0, \"ticks\": \"\"}}, \"type\": \"scatterpolargl\"}], \"scatterternary\": [{\"marker\": {\"colorbar\": {\"outlinewidth\": 0, \"ticks\": \"\"}}, \"type\": \"scatterternary\"}], \"surface\": [{\"colorbar\": {\"outlinewidth\": 0, \"ticks\": \"\"}, \"colorscale\": [[0.0, \"#0d0887\"], [0.1111111111111111, \"#46039f\"], [0.2222222222222222, \"#7201a8\"], [0.3333333333333333, \"#9c179e\"], [0.4444444444444444, \"#bd3786\"], [0.5555555555555556, \"#d8576b\"], [0.6666666666666666, \"#ed7953\"], [0.7777777777777778, \"#fb9f3a\"], [0.8888888888888888, \"#fdca26\"], [1.0, \"#f0f921\"]], \"type\": \"surface\"}], \"table\": [{\"cells\": {\"fill\": {\"color\": \"#EBF0F8\"}, \"line\": {\"color\": \"white\"}}, \"header\": {\"fill\": {\"color\": \"#C8D4E3\"}, \"line\": {\"color\": \"white\"}}, \"type\": \"table\"}]}, \"layout\": {\"annotationdefaults\": {\"arrowcolor\": \"#2a3f5f\", \"arrowhead\": 0, \"arrowwidth\": 1}, \"autotypenumbers\": \"strict\", \"coloraxis\": {\"colorbar\": {\"outlinewidth\": 0, \"ticks\": \"\"}}, \"colorscale\": {\"diverging\": [[0, \"#8e0152\"], [0.1, \"#c51b7d\"], [0.2, \"#de77ae\"], [0.3, \"#f1b6da\"], [0.4, \"#fde0ef\"], [0.5, \"#f7f7f7\"], [0.6, \"#e6f5d0\"], [0.7, \"#b8e186\"], [0.8, \"#7fbc41\"], [0.9, \"#4d9221\"], [1, \"#276419\"]], \"sequential\": [[0.0, \"#0d0887\"], [0.1111111111111111, \"#46039f\"], [0.2222222222222222, \"#7201a8\"], [0.3333333333333333, \"#9c179e\"], [0.4444444444444444, \"#bd3786\"], [0.5555555555555556, \"#d8576b\"], [0.6666666666666666, \"#ed7953\"], [0.7777777777777778, \"#fb9f3a\"], [0.8888888888888888, \"#fdca26\"], [1.0, \"#f0f921\"]], \"sequentialminus\": [[0.0, \"#0d0887\"], [0.1111111111111111, \"#46039f\"], [0.2222222222222222, \"#7201a8\"], [0.3333333333333333, \"#9c179e\"], [0.4444444444444444, \"#bd3786\"], [0.5555555555555556, \"#d8576b\"], [0.6666666666666666, \"#ed7953\"], [0.7777777777777778, \"#fb9f3a\"], [0.8888888888888888, \"#fdca26\"], [1.0, \"#f0f921\"]]}, \"colorway\": [\"#636efa\", \"#EF553B\", \"#00cc96\", \"#ab63fa\", \"#FFA15A\", \"#19d3f3\", \"#FF6692\", \"#B6E880\", \"#FF97FF\", \"#FECB52\"], \"font\": {\"color\": \"#2a3f5f\"}, \"geo\": {\"bgcolor\": \"white\", \"lakecolor\": \"white\", \"landcolor\": \"#E5ECF6\", \"showlakes\": true, \"showland\": true, \"subunitcolor\": \"white\"}, \"hoverlabel\": {\"align\": \"left\"}, \"hovermode\": \"closest\", \"mapbox\": {\"style\": \"light\"}, \"paper_bgcolor\": \"white\", \"plot_bgcolor\": \"#E5ECF6\", \"polar\": {\"angularaxis\": {\"gridcolor\": \"white\", \"linecolor\": \"white\", \"ticks\": \"\"}, \"bgcolor\": \"#E5ECF6\", \"radialaxis\": {\"gridcolor\": \"white\", \"linecolor\": \"white\", \"ticks\": \"\"}}, \"scene\": {\"xaxis\": {\"backgroundcolor\": \"#E5ECF6\", \"gridcolor\": \"white\", \"gridwidth\": 2, \"linecolor\": \"white\", \"showbackground\": true, \"ticks\": \"\", \"zerolinecolor\": \"white\"}, \"yaxis\": {\"backgroundcolor\": \"#E5ECF6\", \"gridcolor\": \"white\", \"gridwidth\": 2, \"linecolor\": \"white\", \"showbackground\": true, \"ticks\": \"\", \"zerolinecolor\": \"white\"}, \"zaxis\": {\"backgroundcolor\": \"#E5ECF6\", \"gridcolor\": \"white\", \"gridwidth\": 2, \"linecolor\": \"white\", \"showbackground\": true, \"ticks\": \"\", \"zerolinecolor\": \"white\"}}, \"shapedefaults\": {\"line\": {\"color\": \"#2a3f5f\"}}, \"ternary\": {\"aaxis\": {\"gridcolor\": \"white\", \"linecolor\": \"white\", \"ticks\": \"\"}, \"baxis\": {\"gridcolor\": \"white\", \"linecolor\": \"white\", \"ticks\": \"\"}, \"bgcolor\": \"#E5ECF6\", \"caxis\": {\"gridcolor\": \"white\", \"linecolor\": \"white\", \"ticks\": \"\"}}, \"title\": {\"x\": 0.05}, \"xaxis\": {\"automargin\": true, \"gridcolor\": \"white\", \"linecolor\": \"white\", \"ticks\": \"\", \"title\": {\"standoff\": 15}, \"zerolinecolor\": \"white\", \"zerolinewidth\": 2}, \"yaxis\": {\"automargin\": true, \"gridcolor\": \"white\", \"linecolor\": \"white\", \"ticks\": \"\", \"title\": {\"standoff\": 15}, \"zerolinecolor\": \"white\", \"zerolinewidth\": 2}}}, \"title\": {\"font\": {\"color\": \"black\", \"family\": \"Calibri\", \"size\": 32}, \"text\": \"Customer Churn\", \"x\": 0.5, \"y\": 0.53}},                        {\"responsive\": true}                    ).then(function(){\n",
       "                            \n",
       "var gd = document.getElementById('e4fb8252-660c-4dbd-bb48-4660201a4cb3');\n",
       "var x = new MutationObserver(function (mutations, observer) {{\n",
       "        var display = window.getComputedStyle(gd).display;\n",
       "        if (!display || display === 'none') {{\n",
       "            console.log([gd, 'removed!']);\n",
       "            Plotly.purge(gd);\n",
       "            observer.disconnect();\n",
       "        }}\n",
       "}});\n",
       "\n",
       "// Listen for the removal of the full notebook cells\n",
       "var notebookContainer = gd.closest('#notebook-container');\n",
       "if (notebookContainer) {{\n",
       "    x.observe(notebookContainer, {childList: true});\n",
       "}}\n",
       "\n",
       "// Listen for the clearing of the current output cell\n",
       "var outputEl = gd.closest('.output');\n",
       "if (outputEl) {{\n",
       "    x.observe(outputEl, {childList: true});\n",
       "}}\n",
       "\n",
       "                        })                };                });            </script>        </div>"
      ]
     },
     "metadata": {},
     "output_type": "display_data"
    }
   ],
   "source": [
    "fig = px.pie(churn, values=churn['count'], names=churn['Churn'])\n",
    "fig.update_traces(textposition='inside', \n",
    "                  textinfo='percent + label', \n",
    "                  hole=0.85, \n",
    "                  marker=dict(colors=['#2A3132','#336B87'], line=dict(color='white', width=2))\n",
    "                 )\n",
    "\n",
    "fig.update_layout(title_text='Customer Churn',\n",
    "                  title_x=0.5, \n",
    "                  title_y=0.53, \n",
    "                  title_font_size=32, \n",
    "                  title_font_family='Calibri', \n",
    "                  title_font_color='black',\n",
    "                  showlegend=False\n",
    "                 )\n",
    "                  \n",
    "fig.show()"
   ]
  },
  {
   "cell_type": "code",
   "execution_count": 9,
   "id": "dd80e60f-c6ef-4afe-8248-e8df20eb581b",
   "metadata": {},
   "outputs": [
    {
     "data": {
      "application/vnd.plotly.v1+json": {
       "config": {
        "plotlyServerURL": "https://plot.ly"
       },
       "data": [
        {
         "domain": {
          "x": [
           0,
           1
          ],
          "y": [
           0,
           1
          ]
         },
         "hovertemplate": "Churn=%{label}<br>count=%{value}<extra></extra>",
         "labels": [
          "No",
          "Yes"
         ],
         "legendgroup": "",
         "name": "",
         "showlegend": true,
         "type": "pie",
         "values": [
          4399,
          1587
         ]
        }
       ],
       "layout": {
        "autosize": true,
        "legend": {
         "tracegroupgap": 0
        },
        "template": {
         "data": {
          "scatter": [
           {
            "type": "scatter"
           }
          ]
         }
        },
        "title": {
         "text": "Customer Churn"
        }
       }
      },
      "image/png": "[encoded data removed]",
      "text/html": [
       "<div>                            <div id=\"e1583356-fada-43b6-abbb-c1091f46fa9d\" class=\"plotly-graph-div\" style=\"height:525px; width:100%;\"></div>            <script type=\"text/javascript\">                require([\"plotly\"], function(Plotly) {                    window.PLOTLYENV=window.PLOTLYENV || {};                                    if (document.getElementById(\"e1583356-fada-43b6-abbb-c1091f46fa9d\")) {                    Plotly.newPlot(                        \"e1583356-fada-43b6-abbb-c1091f46fa9d\",                        [{\"domain\": {\"x\": [0.0, 1.0], \"y\": [0.0, 1.0]}, \"hovertemplate\": \"Churn=%{label}<br>count=%{value}<extra></extra>\", \"labels\": [\"No\", \"Yes\"], \"legendgroup\": \"\", \"name\": \"\", \"showlegend\": true, \"type\": \"pie\", \"values\": [4399, 1587]}],                        {\"legend\": {\"tracegroupgap\": 0}, \"template\": {\"data\": {\"scatter\": [{\"type\": \"scatter\"}]}}, \"title\": {\"text\": \"Customer Churn\"}},                        {\"responsive\": true}                    ).then(function(){\n",
       "                            \n",
       "var gd = document.getElementById('e1583356-fada-43b6-abbb-c1091f46fa9d');\n",
       "var x = new MutationObserver(function (mutations, observer) {{\n",
       "        var display = window.getComputedStyle(gd).display;\n",
       "        if (!display || display === 'none') {{\n",
       "            console.log([gd, 'removed!']);\n",
       "            Plotly.purge(gd);\n",
       "            observer.disconnect();\n",
       "        }}\n",
       "}});\n",
       "\n",
       "// Listen for the removal of the full notebook cells\n",
       "var notebookContainer = gd.closest('#notebook-container');\n",
       "if (notebookContainer) {{\n",
       "    x.observe(notebookContainer, {childList: true});\n",
       "}}\n",
       "\n",
       "// Listen for the clearing of the current output cell\n",
       "var outputEl = gd.closest('.output');\n",
       "if (outputEl) {{\n",
       "    x.observe(outputEl, {childList: true});\n",
       "}}\n",
       "\n",
       "                        })                };                });            </script>        </div>"
      ]
     },
     "metadata": {},
     "output_type": "display_data"
    }
   ],
   "source": [
    "fig = px.pie(\n",
    "    churn,\n",
    "    values ='count',\n",
    "    names='Churn',\n",
    "    title='Customer Churn',\n",
    "    template='none'\n",
    ")\n",
    "fig.show()"
   ]
  },
  {
   "cell_type": "code",
   "execution_count": null,
   "id": "915f2a93-7747-46d4-a3f9-9415522e35b9",
   "metadata": {},
   "outputs": [],
   "source": []
  },
  {
   "cell_type": "markdown",
   "id": "aab62ac4-5612-4e9a-95f8-9bec6b5d3031",
   "metadata": {},
   "source": [
    "# Data Analysis\n",
    "Here we will take a look at our data and see what information we can gleam about the columns."
   ]
  },
  {
   "cell_type": "code",
   "execution_count": 14,
   "id": "473e0f5a-8ee0-4b94-b9e5-ddb43c552517",
   "metadata": {},
   "outputs": [],
   "source": [
    "cat_columns = [\n",
    "    'gender', 'SeniorCitizen', 'Partner', 'Dependents',\n",
    "    'PhoneService', 'MultipleLines', 'InternetService', 'OnlineSecurity',\n",
    "    'OnlineBackup', 'DeviceProtection', 'TechSupport', 'StreamingTV',\n",
    "    'StreamingMovies', 'Contract', 'PaperlessBilling', 'PaymentMethod',\n",
    "    'Churn'\n",
    "]\n",
    "num_columns = ['TotalCharges', 'MonthlyCharges', 'tenure']"
   ]
  },
  {
   "cell_type": "markdown",
   "id": "4e3479af-0fd5-461a-a64e-36d3ac47d8de",
   "metadata": {},
   "source": [
    "## Examine Numerical Columns\n",
    "We see that TotalCharges has an empty string for missing value from the results as well as tenure of 0 months. For both, we have 10 instances. In many industrialized nations, we have 7-14 days to change our mind on purchases without penalty. If someone wants to leave in this time frame, would this even be a churn? It would essentially be rolled back like they did not sign up.\n",
    "\n",
    "Is 0 months, null data or representing this case I presribed above? If someone does churn after this period, they usually most pay the month and penalties. That is, should this really be 1?"
   ]
  },
  {
   "cell_type": "code",
   "execution_count": 17,
   "id": "0b7679ba-b02c-43c9-bb9d-6c0074fc01be",
   "metadata": {},
   "outputs": [
    {
     "name": "stdout",
     "output_type": "stream",
     "text": [
      "******* Column name: TotalCharges *******\n",
      "Min values:  \n",
      "Max values: 999.9\n",
      "***********-end-***********\n",
      "\n",
      "\n",
      "******* Column name: MonthlyCharges *******\n",
      "Min values: 18.25\n",
      "Max values: 118.75\n",
      "***********-end-***********\n",
      "\n",
      "\n",
      "******* Column name: tenure *******\n",
      "Min values: 0\n",
      "Max values: 72\n",
      "***********-end-***********\n",
      "\n",
      "\n"
     ]
    }
   ],
   "source": [
    "for feature in num_columns:\n",
    "    print('*******', 'Column name:', feature, '*******')\n",
    "    \n",
    "    print('Min values:', df[feature].min())\n",
    "    print('Max values:', df[feature].max())\n",
    "    \n",
    "    print('***********-end-***********')\n",
    "    print('\\n')"
   ]
  },
  {
   "cell_type": "code",
   "execution_count": 25,
   "id": "009737d3-8cff-4f97-b9b0-cf1231cccbaa",
   "metadata": {},
   "outputs": [
    {
     "name": "stdout",
     "output_type": "stream",
     "text": [
      "\n",
      " \n",
      "************* Column name: gender *************\n",
      "1. Unique vlaues: ['Male' 'Female']\n",
      "\n",
      "2. Min values: Female\n",
      "\n",
      "3. value counts:\n",
      " Male      50.952222\n",
      "Female    49.047778\n",
      "Name: gender, dtype: float64\n",
      "**************************************************\n",
      "***************-end-******************************\n",
      "\n",
      " \n",
      "\n",
      " \n",
      "************* Column name: SeniorCitizen *************\n",
      "1. Unique vlaues: [0 1]\n",
      "\n",
      "2. Min values: 0\n",
      "\n",
      "3. value counts:\n",
      " 0    83.862345\n",
      "1    16.137655\n",
      "Name: SeniorCitizen, dtype: float64\n",
      "**************************************************\n",
      "***************-end-******************************\n",
      "\n",
      " \n",
      "\n",
      " \n",
      "************* Column name: Partner *************\n",
      "1. Unique vlaues: ['Yes' 'No']\n",
      "\n",
      "2. Min values: No\n",
      "\n",
      "3. value counts:\n",
      " No     51.486803\n",
      "Yes    48.513197\n",
      "Name: Partner, dtype: float64\n",
      "**************************************************\n",
      "***************-end-******************************\n",
      "\n",
      " \n",
      "\n",
      " \n",
      "************* Column name: Dependents *************\n",
      "1. Unique vlaues: ['Yes' 'No']\n",
      "\n",
      "2. Min values: No\n",
      "\n",
      "3. value counts:\n",
      " No     70.080187\n",
      "Yes    29.919813\n",
      "Name: Dependents, dtype: float64\n",
      "**************************************************\n",
      "***************-end-******************************\n",
      "\n",
      " \n",
      "\n",
      " \n",
      "************* Column name: PhoneService *************\n",
      "1. Unique vlaues: ['Yes' 'No']\n",
      "\n",
      "2. Min values: No\n",
      "\n",
      "3. value counts:\n",
      " Yes    90.143669\n",
      "No      9.856331\n",
      "Name: PhoneService, dtype: float64\n",
      "**************************************************\n",
      "***************-end-******************************\n",
      "\n",
      " \n",
      "\n",
      " \n",
      "************* Column name: MultipleLines *************\n",
      "1. Unique vlaues: ['Yes' 'No' 'No phone service']\n",
      "\n",
      "2. Min values: No\n",
      "\n",
      "3. value counts:\n",
      " No                  47.577681\n",
      "Yes                 42.565987\n",
      "No phone service     9.856331\n",
      "Name: MultipleLines, dtype: float64\n",
      "**************************************************\n",
      "***************-end-******************************\n",
      "\n",
      " \n",
      "\n",
      " \n",
      "************* Column name: InternetService *************\n",
      "1. Unique vlaues: ['No' 'Fiber optic' 'DSL']\n",
      "\n",
      "2. Min values: DSL\n",
      "\n",
      "3. value counts:\n",
      " Fiber optic    43.885733\n",
      "DSL            34.547277\n",
      "No             21.566990\n",
      "Name: InternetService, dtype: float64\n",
      "**************************************************\n",
      "***************-end-******************************\n",
      "\n",
      " \n",
      "\n",
      " \n",
      "************* Column name: OnlineSecurity *************\n",
      "1. Unique vlaues: ['No internet service' 'No' 'Yes']\n",
      "\n",
      "2. Min values: No\n",
      "\n",
      "3. value counts:\n",
      " No                     49.816238\n",
      "Yes                    28.616772\n",
      "No internet service    21.566990\n",
      "Name: OnlineSecurity, dtype: float64\n",
      "**************************************************\n",
      "***************-end-******************************\n",
      "\n",
      " \n",
      "\n",
      " \n",
      "************* Column name: OnlineBackup *************\n",
      "1. Unique vlaues: ['No internet service' 'Yes' 'No']\n",
      "\n",
      "2. Min values: No\n",
      "\n",
      "3. value counts:\n",
      " No                     43.518209\n",
      "Yes                    34.914801\n",
      "No internet service    21.566990\n",
      "Name: OnlineBackup, dtype: float64\n",
      "**************************************************\n",
      "***************-end-******************************\n",
      "\n",
      " \n",
      "\n",
      " \n",
      "************* Column name: DeviceProtection *************\n",
      "1. Unique vlaues: ['No internet service' 'Yes' 'No']\n",
      "\n",
      "2. Min values: No\n",
      "\n",
      "3. value counts:\n",
      " No                     44.102907\n",
      "Yes                    34.330104\n",
      "No internet service    21.566990\n",
      "Name: DeviceProtection, dtype: float64\n",
      "**************************************************\n",
      "***************-end-******************************\n",
      "\n",
      " \n",
      "\n",
      " \n",
      "************* Column name: TechSupport *************\n",
      "1. Unique vlaues: ['No internet service' 'No' 'Yes']\n",
      "\n",
      "2. Min values: No\n",
      "\n",
      "3. value counts:\n",
      " No                     49.448714\n",
      "Yes                    28.984297\n",
      "No internet service    21.566990\n",
      "Name: TechSupport, dtype: float64\n",
      "**************************************************\n",
      "***************-end-******************************\n",
      "\n",
      " \n",
      "\n",
      " \n",
      "************* Column name: StreamingTV *************\n",
      "1. Unique vlaues: ['No internet service' 'Yes' 'No']\n",
      "\n",
      "2. Min values: No\n",
      "\n",
      "3. value counts:\n",
      " No                     39.909790\n",
      "Yes                    38.523221\n",
      "No internet service    21.566990\n",
      "Name: StreamingTV, dtype: float64\n",
      "**************************************************\n",
      "***************-end-******************************\n",
      "\n",
      " \n",
      "\n",
      " \n",
      "************* Column name: StreamingMovies *************\n",
      "1. Unique vlaues: ['No internet service' 'No' 'Yes']\n",
      "\n",
      "2. Min values: No\n",
      "\n",
      "3. value counts:\n",
      " No                     39.358503\n",
      "Yes                    39.074507\n",
      "No internet service    21.566990\n",
      "Name: StreamingMovies, dtype: float64\n",
      "**************************************************\n",
      "***************-end-******************************\n",
      "\n",
      " \n",
      "\n",
      " \n",
      "************* Column name: Contract *************\n",
      "1. Unique vlaues: ['Two year' 'Month-to-month' 'One year']\n",
      "\n",
      "2. Min values: Month-to-month\n",
      "\n",
      "3. value counts:\n",
      " Month-to-month    54.610758\n",
      "Two year          24.072837\n",
      "One year          21.316405\n",
      "Name: Contract, dtype: float64\n",
      "**************************************************\n",
      "***************-end-******************************\n",
      "\n",
      " \n",
      "\n",
      " \n",
      "************* Column name: PaperlessBilling *************\n",
      "1. Unique vlaues: ['No' 'Yes']\n",
      "\n",
      "2. Min values: No\n",
      "\n",
      "3. value counts:\n",
      " Yes    58.937521\n",
      "No     41.062479\n",
      "Name: PaperlessBilling, dtype: float64\n",
      "**************************************************\n",
      "***************-end-******************************\n",
      "\n",
      " \n",
      "\n",
      " \n",
      "************* Column name: PaymentMethod *************\n",
      "1. Unique vlaues: ['Credit card (automatic)' 'Bank transfer (automatic)' 'Electronic check'\n",
      " 'Mailed check']\n",
      "\n",
      "2. Min values: Bank transfer (automatic)\n",
      "\n",
      "3. value counts:\n",
      " Electronic check             33.511527\n",
      "Mailed check                 22.870030\n",
      "Bank transfer (automatic)    21.850986\n",
      "Credit card (automatic)      21.767457\n",
      "Name: PaymentMethod, dtype: float64\n",
      "**************************************************\n",
      "***************-end-******************************\n",
      "\n",
      " \n",
      "\n",
      " \n",
      "************* Column name: Churn *************\n",
      "1. Unique vlaues: ['No' 'Yes']\n",
      "\n",
      "2. Min values: No\n",
      "\n",
      "3. value counts:\n",
      " No     73.488139\n",
      "Yes    26.511861\n",
      "Name: Churn, dtype: float64\n",
      "**************************************************\n",
      "***************-end-******************************\n",
      "\n",
      " \n"
     ]
    }
   ],
   "source": [
    "for feature in cat_columns:\n",
    "    print('\\n ')\n",
    "    print('*************', 'Column name:', feature, '*************')\n",
    "    print('1. Unique vlaues:', df[feature].unique())\n",
    "    print('\\r')\n",
    "    print('2. Min values:', df[feature].min())\n",
    "    print('\\r')\n",
    "    print('3. value counts:\\n', df[feature].value_counts(1) * 100)\n",
    "    print('**************************************************')\n",
    "    print('***************-end-******************************')\n",
    "    print('\\n ')"
   ]
  },
  {
   "cell_type": "markdown",
   "id": "e96381ef-7e87-4a47-89bd-a55f5b5a1d18",
   "metadata": {},
   "source": [
    "# Missing or Null Values\n",
    "There a few values defined by an empty string. We will look at results using two methods to handling the values.\n",
    "* Assigning the values to 0\n",
    "* Assigning the values to the the median\n",
    "\n",
    "In the case of tenure, will take two approaches:\n",
    "* Assigning the values to 1\n",
    "* Assigning the values to the median \n",
    "\n",
    "For tenure, this is due to the reason described above.\n",
    "\n",
    "The average could also be used but here this is what we will demonstrate."
   ]
  },
  {
   "cell_type": "code",
   "execution_count": 27,
   "id": "27aed4f7-364c-4eb7-a9c9-f1e527ff9e7f",
   "metadata": {},
   "outputs": [],
   "source": [
    "df_med = df.copy(deep=True)\n",
    "df_zero = df.copy(deep=True)"
   ]
  },
  {
   "cell_type": "code",
   "execution_count": 29,
   "id": "e42efb87-fc7a-4651-a1bd-72695b33f7f8",
   "metadata": {},
   "outputs": [],
   "source": [
    "# empty strings converted to np.NaN\n",
    "df_zero.TotalCharges = pd.to_numeric(df_zero.TotalCharges, errors='coerce')\n",
    "\n",
    "# np.NaN -> 0\n",
    "df_zero.TotalCharges = df_zero.TotalCharges.fillna(0)\n",
    "\n",
    "# ' ' -> median\n",
    "med = df_med[df_med.TotalCharges != ' ']['TotalCharges'].median()\n",
    "df_med.TotalCharges =  df_med.TotalCharges.replace(' ', med)\n",
    "df_med.TotalCharges = df_med['TotalCharges'].astype(float)"
   ]
  },
  {
   "cell_type": "code",
   "execution_count": 37,
   "id": "5bb48427-ff34-476b-b9ed-05423cc7415e",
   "metadata": {},
   "outputs": [],
   "source": [
    "df_zero_one = df_zero.copy(deep=True)\n",
    "df_zero_med = df_zero.copy(deep=True)\n",
    "df_med_one = df_med.copy(deep=True)\n",
    "df_med_med = df_med.copy(deep=True)"
   ]
  },
  {
   "cell_type": "code",
   "execution_count": 38,
   "id": "f1cface1-ee8e-4deb-9a2a-09d81856af45",
   "metadata": {},
   "outputs": [],
   "source": [
    "# 0 -> 1\n",
    "df_zero_one.tenure = df_zero_one.tenure.replace(0, 1)\n",
    "df_med_one.tenure = df_med_one.tenure.replace(0, 1)\n",
    "\n",
    "# 0 -> median\n",
    "med_tenure = df[df.tenure != 0]['tenure'].median()\n",
    "df_zero_med.tenure = df_zero_one.tenure.replace(0, med_tenure)\n",
    "df_med_med.tenure = df_med_one.tenure.replace(0, med_tenure)"
   ]
  },
  {
   "cell_type": "markdown",
   "id": "bf40c98c-8fb6-472c-a36c-2d40ab14481f",
   "metadata": {},
   "source": [
    "# Assigned to Zero"
   ]
  },
  {
   "cell_type": "code",
   "execution_count": 30,
   "id": "dde74c7d-8c5e-4b3e-98b2-8cf41a7271d8",
   "metadata": {},
   "outputs": [
    {
     "data": {
      "image/png": "[encoded data removed]",
      "text/plain": [
       "<Figure size 432x288 with 1 Axes>"
      ]
     },
     "metadata": {},
     "output_type": "display_data"
    },
    {
     "data": {
      "image/png": "[encoded data removed]",
      "text/plain": [
       "<Figure size 432x288 with 1 Axes>"
      ]
     },
     "metadata": {},
     "output_type": "display_data"
    },
    {
     "data": {
      "image/png": "[encoded data removed]",
      "text/plain": [
       "<Figure size 432x288 with 1 Axes>"
      ]
     },
     "metadata": {},
     "output_type": "display_data"
    }
   ],
   "source": [
    "for col in num_columns:\n",
    "    df_zero[col].plot(kind='hist', bins=20)\n",
    "    plt.title(col)\n",
    "    plt.grid()\n",
    "    plt.show()"
   ]
  },
  {
   "cell_type": "code",
   "execution_count": 35,
   "id": "804338c9-c4cc-46bd-9fa1-dc95841201f0",
   "metadata": {},
   "outputs": [
    {
     "data": {
      "image/png": "[encoded data removed]",
      "text/plain": [
       "<Figure size 1224x1440 with 3 Axes>"
      ]
     },
     "metadata": {},
     "output_type": "display_data"
    }
   ],
   "source": [
    "fig = plt.figure(figsize = (17, 20))\n",
    "\n",
    "plt.subplot(221)\n",
    "sns.set_style(\"dark\")\n",
    "sns.kdeplot(df_zero.query('Churn == \"Yes\"')['tenure'], color='#2A3132', shade=True, label='Client left', alpha=0.5)\n",
    "sns.kdeplot(df_zero.query('Churn == \"No\"')['tenure'], color='#336B87', shade=True, label='Client stayed', alpha=0.5)\n",
    "plt.ylabel('')\n",
    "plt.xlabel('Months of Use')\n",
    "plt.yticks([])\n",
    "plt.legend()\n",
    "\n",
    "plt.subplot(223)\n",
    "sns.set_style(\"dark\")\n",
    "sns.kdeplot(df_zero.query('Churn == \"Yes\"')['MonthlyCharges'], color='#2A3132', shade= True, label='Client left', alpha=0.5)\n",
    "sns.kdeplot(df_zero.query('Churn == \"No\"')['MonthlyCharges'], color='#336B87', shade=True, label='Client stayed', alpha=0.5)\n",
    "plt.ylabel('')\n",
    "plt.xlabel('Monthly Charges')\n",
    "plt.yticks([])\n",
    "plt.legend()\n",
    "\n",
    "plt.subplot(224)\n",
    "sns.set_style(\"dark\")\n",
    "sns.kdeplot(df_zero.query('Churn == \"Yes\"')['TotalCharges'], color='#2A3132', shade=True, label='Client left', alpha=0.5)\n",
    "sns.kdeplot(df_zero.query('Churn == \"No\"')['TotalCharges'], color='#336B87', shade=True, label='Client stayed', alpha=0.5)\n",
    "plt.ylabel('')\n",
    "plt.xlabel('Total Charges')\n",
    "plt.yticks([])\n",
    "plt.legend()\n",
    "\n",
    "\n",
    "plt.show()"
   ]
  },
  {
   "cell_type": "markdown",
   "id": "c317f612-7e31-414a-a200-d446a7218488",
   "metadata": {},
   "source": [
    "# Assigned to Median"
   ]
  },
  {
   "cell_type": "code",
   "execution_count": 32,
   "id": "7bfb5415-530f-42ff-a13a-3895d85f19e4",
   "metadata": {},
   "outputs": [
    {
     "data": {
      "image/png": "[encoded data removed]",
      "text/plain": [
       "<Figure size 432x288 with 1 Axes>"
      ]
     },
     "metadata": {},
     "output_type": "display_data"
    },
    {
     "data": {
      "image/png": "[encoded data removed]",
      "text/plain": [
       "<Figure size 432x288 with 1 Axes>"
      ]
     },
     "metadata": {},
     "output_type": "display_data"
    },
    {
     "data": {
      "image/png": "[encoded data removed]",
      "text/plain": [
       "<Figure size 432x288 with 1 Axes>"
      ]
     },
     "metadata": {},
     "output_type": "display_data"
    }
   ],
   "source": [
    "for col in num_columns:\n",
    "    df_med[col].plot(kind='hist', bins=20)\n",
    "    plt.title(col)\n",
    "    plt.grid()\n",
    "    plt.show()"
   ]
  },
  {
   "cell_type": "code",
   "execution_count": 34,
   "id": "60c22db8-7b01-4ea4-9093-9c18b11a22d9",
   "metadata": {},
   "outputs": [
    {
     "data": {
      "image/png": "[encoded data removed]",
      "text/plain": [
       "<Figure size 1224x1440 with 3 Axes>"
      ]
     },
     "metadata": {},
     "output_type": "display_data"
    }
   ],
   "source": [
    "fig = plt.figure(figsize = (17, 20))\n",
    "\n",
    "plt.subplot(221)\n",
    "sns.set_style(\"dark\")\n",
    "sns.kdeplot(df_med.query('Churn == \"Yes\"')['tenure'], color='#2A3132', shade=True, label='Client left', alpha=0.5)\n",
    "sns.kdeplot(df_med.query('Churn == \"No\"')['tenure'], color='#336B87', shade=True, label='Client stayed', alpha=0.5)\n",
    "plt.ylabel('')\n",
    "plt.xlabel('Months of Use')\n",
    "plt.yticks([])\n",
    "plt.legend()\n",
    "\n",
    "plt.subplot(223)\n",
    "sns.set_style(\"dark\")\n",
    "sns.kdeplot(df_med.query('Churn == \"Yes\"')['MonthlyCharges'], color='#2A3132', shade= True, label='Client left', alpha=0.5)\n",
    "sns.kdeplot(df_med.query('Churn == \"No\"')['MonthlyCharges'], color='#336B87', shade=True, label='Client stayed', alpha=0.5)\n",
    "plt.ylabel('')\n",
    "plt.xlabel('Monthly Charges')\n",
    "plt.yticks([])\n",
    "plt.legend()\n",
    "\n",
    "plt.subplot(224)\n",
    "sns.set_style(\"dark\")\n",
    "sns.kdeplot(df_med.query('Churn == \"Yes\"')['TotalCharges'], color='#2A3132', shade=True, label='Client left', alpha=0.5)\n",
    "sns.kdeplot(df_med.query('Churn == \"No\"')['TotalCharges'], color='#336B87', shade=True, label='Client stayed', alpha=0.5)\n",
    "plt.ylabel('')\n",
    "plt.xlabel('Total Charges')\n",
    "plt.yticks([])\n",
    "plt.legend()\n",
    "\n",
    "\n",
    "plt.show()"
   ]
  },
  {
   "cell_type": "markdown",
   "id": "adbe5126-8733-454d-afea-4e8519dded24",
   "metadata": {},
   "source": [
    "We can see that there is not much change with the distributions when the 10 values are assigned to either zero or median. In this case, we may not see a big difference. However, in datasets with large amount of nulls in a column, the choice one picks here can play a larger role in the model. Let's see how this two play out."
   ]
  },
  {
   "cell_type": "code",
   "execution_count": null,
   "id": "679729ab-a64b-42fe-a86c-8cfe47fe0fb9",
   "metadata": {},
   "outputs": [],
   "source": []
  }
 ],
 "metadata": {
  "kernelspec": {
   "display_name": "Python 3",
   "language": "python",
   "name": "python3"
  },
  "language_info": {
   "codemirror_mode": {
    "name": "ipython",
    "version": 3
   },
   "file_extension": ".py",
   "mimetype": "text/x-python",
   "name": "python",
   "nbconvert_exporter": "python",
   "pygments_lexer": "ipython3",
   "version": "3.8.8"
  }
 },
 "nbformat": 4,
 "nbformat_minor": 5
}
